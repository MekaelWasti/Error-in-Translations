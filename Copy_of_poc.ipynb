{
  "cells": [
    {
      "cell_type": "code",
      "execution_count": 1,
      "metadata": {
        "colab": {
          "base_uri": "https://localhost:8080/"
        },
        "id": "A3ohlM-B3EAl",
        "outputId": "52a514ea-c8bf-4fae-d6a9-e7480b1aec87"
      },
      "outputs": [],
      "source": [
        "#enviroment\n",
        "# !pip install spacy\n",
        "# !python -m spacy download zh_core_web_sm\n",
        "\n",
        "\n",
        "import openai\n",
        "from openai import OpenAI\n",
        "import os\n",
        "import spacy\n",
        "\n",
        "OPENAI_API_KEY = 'sk-proj-o9TONJi0MW2tSiDMhRkxT3BlbkFJkUr03XQ5IfUaxamV0e3k'\n"
      ]
    },
    {
      "cell_type": "code",
      "execution_count": 2,
      "metadata": {
        "colab": {
          "base_uri": "https://localhost:8080/"
        },
        "id": "yQsHeY_GOz66",
        "outputId": "5de943e1-0aee-4184-d4a2-4dec2214a4a9"
      },
      "outputs": [
        {
          "name": "stdout",
          "output_type": "stream",
          "text": [
            "Identified entities: {'黑光纤': 'dark fiber'}\n"
          ]
        }
      ],
      "source": [
        "nlp = spacy.load(\"zh_core_web_sm\")\n",
        "\n",
        "glossary_db = {\n",
        "    '黑光纤': 'dark fiber',\n",
        "    '光纤': 'optical fiber',\n",
        "}\n",
        "\n",
        "def identify_entities(source_text):\n",
        "    doc = nlp(source_text)\n",
        "    entities = []\n",
        "    translations = {}\n",
        "    for ent in doc.ents:\n",
        "        term = ent.text.lower()\n",
        "        if term in glossary_db:\n",
        "            translations[ent.text] = glossary_db[term]\n",
        "    return translations\n",
        "\n",
        "text = \"光纤照上去变成黑光纤了\"\n",
        "translations = identify_entities(text)\n",
        "\n",
        "print(\"Identified entities:\", translations)"
      ]
    },
    {
      "cell_type": "code",
      "execution_count": 3,
      "metadata": {
        "id": "rsJui7hwOuaj"
      },
      "outputs": [],
      "source": [
        "def translate_text(source_language, target_language, prompt):\n",
        "\n",
        "    client = OpenAI(api_key= OPENAI_API_KEY,)\n",
        "    print(prompt)\n",
        "    response = client.chat.completions.create(\n",
        "      messages=[{\n",
        "            \"role\": \"user\",\n",
        "            \"content\": prompt,\n",
        "          }],\n",
        "      model=\"gpt-3.5-turbo\",)\n",
        "    translation = response.choices[0].message.content.strip().split(\"\\n\")[0]\n",
        "    return translation"
      ]
    },
    {
      "cell_type": "code",
      "execution_count": 24,
      "metadata": {
        "id": "sOZ05BgM9U2i"
      },
      "outputs": [
        {
          "name": "stdout",
          "output_type": "stream",
          "text": [
            "CHINESE TO ENGLISH EXAMPLE\n",
            "Translate \"光纤照上去变成黑光纤了\" from the zh language, into the en language\n",
            "                      using the following context style: \"A poetic two line rhyming style\".\n",
            "                      Here are some examples of the style being used: \"Light speeds away, in a blink it will fly.\"\n",
            "              \"Stars reach from afar, with light from eons bold.\"\n",
            "           \n",
            "                      \n"
          ]
        },
        {
          "name": "stdout",
          "output_type": "stream",
          "text": [
            "\"Fiber optics gleaming, turned into darkness beaming.\" \n",
            "\n",
            "\n",
            "\n",
            "Translate \"光纤照上去变成黑光纤了\" from the zh language, into the en language\n",
            "                      using the following context style: \"A confused and inquisitive style\".\n",
            "                      Here are some examples of the style being used: \"How does it work so well when it's so unclear?\"\n",
            "              \"Why did it begin so suddenly, what triggered it?\"\n",
            "            \n",
            "                      \n",
            "How does the fiber optic turn into a black fiber optic when it's being shone on? \n",
            "\n",
            "\n",
            "\n",
            "ENGLISH TO CHINESE EXAMPLE\n",
            "Translate \"Lose track of time I'm bugging\" from the en language, into the zh language\n",
            "                      using the following context style: \"A poetic two line rhyming style\".\n",
            "                      Here are some examples of the style being used: \"光逝如飞，瞬息即逝。\"\n",
            "              \"星光遥来，古光犹豪。\"\n",
            "           \n",
            "                      \n",
            "时间失去，我烦恼。 \n",
            "\n",
            "\n",
            "\n",
            "Translate \"Lose track of time I'm bugging\" from the en language, into the zh language\n",
            "                      using the following context style: \"A confused and inquisitive style\".\n",
            "                      Here are some examples of the style being used: \"当它如此不清楚时，它如何运作得这么好？\"\n",
            "              \"为什么它开始得这么突然，是什么触发了它？\"\n",
            "            \n",
            "                      \n",
            "\"失去时间我在困扰\" 在这样的风格下翻译成中文是什么？\n"
          ]
        }
      ],
      "source": [
        "# Few-shot context changing via user input\n",
        "def edit_context(context, original_text, source_language, target_language, few_shot_examples):\n",
        "\n",
        "  edited_context = f'''Translate \"{original_text}\" from the {source_language} language, into the {target_language} language\n",
        "                      using the following context style: \"{context}\".\n",
        "                      Here are some examples of the style being used: {few_shot_examples}\n",
        "                      '''\n",
        "  return translate_text(source_language, target_language, edited_context)\n",
        "\n",
        "\n",
        "# Chinese to Chinese Example \n",
        "print(\"CHINESE TO ENGLISH EXAMPLE\")\n",
        "\n",
        "# Poetic Example\n",
        "examples = '''\"Light speeds away, in a blink it will fly.\"\n",
        "              \"Stars reach from afar, with light from eons bold.\"\n",
        "           '''\n",
        "\n",
        "print(edit_context(\"A poetic two line rhyming style\", \"光纤照上去变成黑光纤了\", \"zh\", \"en\", examples), \"\\n\\n\\n\")\n",
        "\n",
        "# Confused and Inquisitive Example\n",
        "examples = '''\"How does it work so well when it's so unclear?\"\n",
        "              \"Why did it begin so suddenly, what triggered it?\"\n",
        "            '''\n",
        "\n",
        "print(edit_context(\"A confused and inquisitive style\", \"光纤照上去变成黑光纤了\", \"zh\", \"en\", examples), \"\\n\\n\\n\")\n",
        "\n",
        "\n",
        "\n",
        "# English to Chinese Example \n",
        "print(\"ENGLISH TO CHINESE EXAMPLE\")\n",
        "\n",
        "# Poetic Example\n",
        "examples = '''\"光逝如飞，瞬息即逝。\"\n",
        "              \"星光遥来，古光犹豪。\"\n",
        "           '''\n",
        "\n",
        "print(edit_context(\"A poetic two line rhyming style\", \"Lose track of time I'm bugging\", \"en\", \"zh\", examples), \"\\n\\n\\n\")\n",
        "\n",
        "# Confused and Inquisitive Example\n",
        "examples = '''\"当它如此不清楚时，它如何运作得这么好？\"\n",
        "              \"为什么它开始得这么突然，是什么触发了它？\"\n",
        "            '''\n",
        "\n",
        "print(edit_context(\"A confused and inquisitive style\", \"Lose track of time I'm bugging\", \"en\", \"zh\", examples))\n"
      ]
    },
    {
      "cell_type": "code",
      "execution_count": 96,
      "metadata": {
        "id": "BQpicJ1J9ZsA"
      },
      "outputs": [
        {
          "name": "stdout",
          "output_type": "stream",
          "text": [
            "Please provide an alternative translation to and rephrase: \"The fiber optic turned into dark fiber when the light shone on it.\" \n",
            "          based on the term '黑光纤': 'dark fiber'.\n",
            "          The original text was 光纤照上去变成黑光纤了.\n",
            "          The source language is zh and the target language is en.\n"
          ]
        },
        {
          "data": {
            "text/plain": [
              "'The fiber optic transformed into dark fiber as it was illuminated.'"
            ]
          },
          "execution_count": 96,
          "metadata": {},
          "output_type": "execute_result"
        }
      ],
      "source": [
        "\n",
        "# Feeding the model (OpenAI API) the original translation meta descriptors and prompting for a new/rephrased/alternate translation\n",
        "def rephrase(old_translation, original_source_text, source_language, target_language):\n",
        "\n",
        "  # Get entites so they don't have to be passed, simplifying the function call. Can be changed to passing if more efficient\n",
        "  terms = identify_entities(original_source_text)\n",
        "  entities_joined = '. '.join([f\"'{k}': '{v}'\" for k, v in terms.items()])\n",
        "\n",
        "  # Construct the prompt for rephrased/alternate translation\n",
        "  prompt = f'''Please provide an alternative translation to and rephrase: \"{old_translation}\" \n",
        "          based on the term {entities_joined}.\n",
        "          The original text was {original_source_text}.\n",
        "          The source language is {source_language} and the target language is {target_language}.'''\n",
        "\n",
        "  # Make the call to the model\n",
        "  return translate_text(source_language, target_language, prompt)\n",
        "\n",
        "# Get alternative translation for demo text\n",
        "rephrase(\"The fiber optic turned into dark fiber when the light shone on it.\", \"光纤照上去变成黑光纤了\", \"zh\", \"en\")"
      ]
    },
    {
      "cell_type": "code",
      "execution_count": 49,
      "metadata": {
        "colab": {
          "base_uri": "https://localhost:8080/"
        },
        "id": "-Dv_Zf9LU5o1",
        "outputId": "1e1bd40f-f442-4229-cf54-1d43b88807a9"
      },
      "outputs": [
        {
          "name": "stdout",
          "output_type": "stream",
          "text": [
            "Based on the trasnlation of following term: '黑光纤': 'dark fiber'.Translate the following text from zh into en: 光纤照上去变成黑光纤了\n",
            "\n"
          ]
        }
      ],
      "source": [
        "# prompt with entity translation\n",
        "def prompt_generator(text, source_language, target_language):\n",
        "  terms = identify_entities(text)\n",
        "  terms_translations = '. '.join([f\"'{k}': '{v}'\" for k, v in terms.items()])\n",
        "  translations = f\"Based on the trasnlation of following term: {terms_translations}.\"\n",
        "  prompt = f\"Translate the following text from {source_language} into {target_language}: {text}\\n\"\n",
        "  if terms == {}:\n",
        "    return prompt\n",
        "  prompt = translations + prompt\n",
        "\n",
        "  return prompt\n",
        "\n",
        "prompt = prompt_generator('光纤照上去变成黑光纤了', 'zh', 'en')\n",
        "# prompt = prompt_generator('Let them pray', 'en', 'zh')\n",
        "print(prompt)"
      ]
    },
    {
      "cell_type": "code",
      "execution_count": 113,
      "metadata": {
        "colab": {
          "base_uri": "https://localhost:8080/",
          "height": 364
        },
        "id": "i-5nRXM1O4Et",
        "outputId": "d0df25cb-aa75-4eff-df3b-f80b7456b9b3"
      },
      "outputs": [
        {
          "name": "stdout",
          "output_type": "stream",
          "text": [
            "Translate the following text from en into zh: Let them pray\n",
            "\n",
            "让他们祈祷\n",
            "Translate the following text from zh into en: 让他们祈祷\n",
            "\n",
            "Let them pray.\n",
            "Based on the trasnlation of following term: '黑光纤': 'dark fiber'.Translate the following text from zh into en: 光纤照上去变成黑光纤了\n",
            "\n",
            "The fiber optic cable turned into dark fiber when the light shines on it.\n"
          ]
        }
      ],
      "source": [
        "# Get user input\n",
        "text = \"Let them pray\"\n",
        "# source_language = input(\"Enter the source language: \")\n",
        "# target_language = input(\"Enter the target language: \")\n",
        "prompt = prompt_generator(text, 'en', 'zh')\n",
        "translation = translate_text(\"en\", \"zh\", prompt)\n",
        "print(translation)\n",
        "\n",
        "\n",
        "prompt = prompt_generator('让他们祈祷', 'zh', 'en')\n",
        "translation = translate_text(\"zh\", \"en\", prompt)\n",
        "print(translation)\n",
        "\n",
        "\n",
        "prompt = prompt_generator('光纤照上去变成黑光纤了', 'zh', 'en')\n",
        "translation = translate_text(\"zh\", \"en\", prompt)\n",
        "print(translation)"
      ]
    },
    {
      "cell_type": "code",
      "execution_count": 73,
      "metadata": {
        "colab": {
          "base_uri": "https://localhost:8080/"
        },
        "id": "UHilkZE9O_pR",
        "outputId": "a339f1ea-e929-4d7c-8b63-20849c2f18d4"
      },
      "outputs": [
        {
          "name": "stdout",
          "output_type": "stream",
          "text": [
            "Based on the trasnlation of following term: '黑光纤': 'dark fiber'.Translate the following text from zh into en: 光纤照上去变成黑光纤了\n",
            "\n",
            "The fiber optic cable became dark fiber when the light shone on it.\n"
          ]
        }
      ],
      "source": [
        "#test\n",
        "prompt = prompt_generator('光纤照上去变成黑光纤了', 'zh', 'en')\n",
        "translation = translate_text('en', 'zh', prompt)\n",
        "print(translation)"
      ]
    },
    {
      "cell_type": "code",
      "execution_count": null,
      "metadata": {
        "id": "JcrpkM9IYdrk"
      },
      "outputs": [],
      "source": [
        "#Quality Estimation"
      ]
    }
  ],
  "metadata": {
    "colab": {
      "provenance": []
    },
    "kernelspec": {
      "display_name": "Python 3",
      "name": "python3"
    },
    "language_info": {
      "codemirror_mode": {
        "name": "ipython",
        "version": 3
      },
      "file_extension": ".py",
      "mimetype": "text/x-python",
      "name": "python",
      "nbconvert_exporter": "python",
      "pygments_lexer": "ipython3",
      "version": "3.10.11"
    }
  },
  "nbformat": 4,
  "nbformat_minor": 0
}
